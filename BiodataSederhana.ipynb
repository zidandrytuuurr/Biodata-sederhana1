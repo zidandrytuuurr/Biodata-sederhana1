{
 "cells": [
  {
   "cell_type": "markdown",
   "id": "2770f58f-2ed9-4a31-9789-ea7fe12a2c90",
   "metadata": {},
   "source": [
    "Biodata sederhana dengan menggunakan fungsi input(), dan output variabel dengan fungsi format()"
   ]
  },
  {
   "cell_type": "code",
   "execution_count": 1,
   "id": "07071694-a239-4aff-925b-85d7ac87d476",
   "metadata": {},
   "outputs": [
    {
     "name": "stdin",
     "output_type": "stream",
     "text": [
      "masukan nama anda:  lala\n",
      "masukan umur anda :  19\n",
      "masukan kelas anda :  TI 23 j\n",
      "masukan alamat anda :  cimanggu\n",
      "maasukan hobi anda :  membaca\n"
     ]
    },
    {
     "name": "stdout",
     "output_type": "stream",
     "text": [
      "\n",
      " nama : lala\n",
      " \n",
      " umur : 19\n",
      " \n",
      " kelas : TI 23 j\n",
      " \n",
      " alamat : cimanggu\n",
      " \n",
      " hobi : membaca\n",
      "\n"
     ]
    }
   ],
   "source": [
    "nama = input('masukan nama anda: ')\n",
    "umur = input('masukan umur anda : ')\n",
    "kelas = input('masukan kelas anda : ')\n",
    "alamat = input('masukan alamat anda : ')\n",
    "hobi = input('maasukan hobi anda : ')\n",
    "\n",
    "biodata = \"\\n nama : {}\\n \\n umur : {}\\n \\n kelas : {}\\n \\n alamat : {}\\n \\n hobi : {}\\n\".format(nama,int(umur),kelas,alamat,hobi)\n",
    "\n",
    "print(biodata)"
   ]
  },
  {
   "cell_type": "code",
   "execution_count": null,
   "id": "5ef88987-fecc-4d7a-90d9-08f187c3b3f0",
   "metadata": {},
   "outputs": [],
   "source": []
  }
 ],
 "metadata": {
  "kernelspec": {
   "display_name": "Python 3 (ipykernel)",
   "language": "python",
   "name": "python3"
  },
  "language_info": {
   "codemirror_mode": {
    "name": "ipython",
    "version": 3
   },
   "file_extension": ".py",
   "mimetype": "text/x-python",
   "name": "python",
   "nbconvert_exporter": "python",
   "pygments_lexer": "ipython3",
   "version": "3.11.7"
  }
 },
 "nbformat": 4,
 "nbformat_minor": 5
}
